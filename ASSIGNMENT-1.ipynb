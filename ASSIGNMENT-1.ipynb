{
  "nbformat": 4,
  "nbformat_minor": 0,
  "metadata": {
    "colab": {
      "provenance": []
    },
    "kernelspec": {
      "name": "python3",
      "display_name": "Python 3"
    },
    "language_info": {
      "name": "python"
    }
  },
  "cells": [
    {
      "cell_type": "code",
      "execution_count": 1,
      "metadata": {
        "colab": {
          "base_uri": "https://localhost:8080/"
        },
        "id": "LbK8TaTmAluG",
        "outputId": "4b4ec798-108d-4a94-9214-2bb6f955a4f6"
      },
      "outputs": [
        {
          "output_type": "stream",
          "name": "stdout",
          "text": [
            "          0         1         2         3\n",
            "0  0.690240  0.286180  0.614529  0.423474\n",
            "1  0.942369  0.758198  0.715809  0.561729\n",
            "2  0.785904  0.001928  0.312142  0.445858\n",
            "3  0.818086  0.905546  0.139799  0.591247\n"
          ]
        }
      ],
      "source": [
        "import pandas as pd\n",
        "import numpy as np\n",
        "data = np.random.rand(4, 4)\n",
        "df = pd.DataFrame(data)\n",
        "print(df)\n"
      ]
    },
    {
      "cell_type": "code",
      "source": [
        "df.columns = ['Random value 1', 'Random value 2', 'Random value 3', 'Random value 4']\n",
        "print(df)"
      ],
      "metadata": {
        "colab": {
          "base_uri": "https://localhost:8080/"
        },
        "id": "tnKIMRRKDp1D",
        "outputId": "a005cc7a-cf03-4906-82ef-3fb6721fcdf1"
      },
      "execution_count": 2,
      "outputs": [
        {
          "output_type": "stream",
          "name": "stdout",
          "text": [
            "   Random value 1  Random value 2  Random value 3  Random value 4\n",
            "0        0.690240        0.286180        0.614529        0.423474\n",
            "1        0.942369        0.758198        0.715809        0.561729\n",
            "2        0.785904        0.001928        0.312142        0.445858\n",
            "3        0.818086        0.905546        0.139799        0.591247\n"
          ]
        }
      ]
    },
    {
      "cell_type": "code",
      "source": [
        "a = df.describe()\n",
        "print(a)"
      ],
      "metadata": {
        "colab": {
          "base_uri": "https://localhost:8080/"
        },
        "id": "BBxxhF_hD7Zl",
        "outputId": "da3f21f2-8d83-4ab8-c6a5-fd8646aca5e8"
      },
      "execution_count": 3,
      "outputs": [
        {
          "output_type": "stream",
          "name": "stdout",
          "text": [
            "       Random value 1  Random value 2  Random value 3  Random value 4\n",
            "count        4.000000        4.000000        4.000000        4.000000\n",
            "mean         0.809150        0.487963        0.445570        0.505577\n",
            "std          0.104095        0.418071        0.266380        0.083266\n",
            "min          0.690240        0.001928        0.139799        0.423474\n",
            "25%          0.761988        0.215117        0.269056        0.440262\n",
            "50%          0.801995        0.522189        0.463335        0.503793\n",
            "75%          0.849157        0.795035        0.639849        0.569109\n",
            "max          0.942369        0.905546        0.715809        0.591247\n"
          ]
        }
      ]
    },
    {
      "cell_type": "code",
      "source": [
        "n = df.isnull().sum()\n",
        "print(\"Null Value\", n)"
      ],
      "metadata": {
        "colab": {
          "base_uri": "https://localhost:8080/"
        },
        "id": "dph57Y7BENKT",
        "outputId": "fc68a1a9-4ba9-41a3-f350-558ec59693c5"
      },
      "execution_count": 6,
      "outputs": [
        {
          "output_type": "stream",
          "name": "stdout",
          "text": [
            "Null Value Random value 1    0\n",
            "Random value 2    0\n",
            "Random value 3    0\n",
            "Random value 4    0\n",
            "dtype: int64\n"
          ]
        }
      ]
    },
    {
      "cell_type": "code",
      "source": [
        "# Using the location method\n",
        "r2 = df.loc[:, 'Random value 2']\n",
        "r3 = df.loc[:, 'Random value 3']\n",
        "\n",
        "# Using the index location method\n",
        "r2_idx = df.iloc[:, 1]\n",
        "r3_idx = df.iloc[:, 2]\n",
        "\n",
        "# Print the columns\n",
        "print(\"Random value 2 (Location Method):\")\n",
        "print(r2)\n",
        "\n",
        "print(\"\\nRandom value 3 (Location Method):\")\n",
        "print(r3)\n",
        "\n",
        "print(\"\\nRandom value 2 (Index Location Method):\")\n",
        "print(r2_idx)\n",
        "\n",
        "print(\"\\nRandom value 3 (Index Location Method):\")\n",
        "print(r3_idx)\n"
      ],
      "metadata": {
        "colab": {
          "base_uri": "https://localhost:8080/"
        },
        "id": "FKe9riwGEPfa",
        "outputId": "40897d40-8b19-4668-80d4-7060731c3278"
      },
      "execution_count": 7,
      "outputs": [
        {
          "output_type": "stream",
          "name": "stdout",
          "text": [
            "Random value 2 (Location Method):\n",
            "0    0.286180\n",
            "1    0.758198\n",
            "2    0.001928\n",
            "3    0.905546\n",
            "Name: Random value 2, dtype: float64\n",
            "\n",
            "Random value 3 (Location Method):\n",
            "0    0.614529\n",
            "1    0.715809\n",
            "2    0.312142\n",
            "3    0.139799\n",
            "Name: Random value 3, dtype: float64\n",
            "\n",
            "Random value 2 (Index Location Method):\n",
            "0    0.286180\n",
            "1    0.758198\n",
            "2    0.001928\n",
            "3    0.905546\n",
            "Name: Random value 2, dtype: float64\n",
            "\n",
            "Random value 3 (Index Location Method):\n",
            "0    0.614529\n",
            "1    0.715809\n",
            "2    0.312142\n",
            "3    0.139799\n",
            "Name: Random value 3, dtype: float64\n"
          ]
        }
      ]
    }
  ]
}